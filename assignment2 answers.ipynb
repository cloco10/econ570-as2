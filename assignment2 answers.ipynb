{
 "cells": [
  {
   "cell_type": "markdown",
   "id": "58469e6c",
   "metadata": {},
   "source": [
    "# Econ570--assignment2\n",
    "\n",
    "Name: Qihui Du\n",
    "USCID: 4115-8356-08"
   ]
  },
  {
   "cell_type": "code",
   "execution_count": 37,
   "id": "18862f95",
   "metadata": {},
   "outputs": [],
   "source": [
    "import pandas as pd\n",
    "import numpy as np\n",
    "import random\n",
    "import statsmodels.api as sm\n",
    "import matplotlib.pyplot as plt\n",
    "import networkx as nx"
   ]
  },
  {
   "cell_type": "code",
   "execution_count": 90,
   "id": "bdc6a918",
   "metadata": {},
   "outputs": [],
   "source": [
    "def fn_generate_data(tau,N,p,p0,corr,conf = True,flagX = False):\n",
    "    nvar = p+2 # 1 confounder and variable for randomizing treatment\n",
    "    corr = 0.5 # correlation for multivariate normal\n",
    "    conf_mult=1\n",
    "    if conf==False:\n",
    "        conf_mult = 0 # remove confounder from outcome\n",
    "    allX = fn_generate_multnorm(N,corr,nvar)\n",
    "    W0 = allX[:,0].reshape([N,1]) # variable for RDD assignment\n",
    "    C = allX[:,1].reshape([N,1]) # confounder\n",
    "    X = allX[:,2:] # observed covariates\n",
    "    \n",
    "    T = fn_randomize_treatment(N) # choose treated units\n",
    "    err = np.random.normal(0,1,[N,1])\n",
    "    beta0 = np.random.normal(5,5,[p,1])\n",
    "    \n",
    "    beta0[p0:p] = 0 # sparse model\n",
    "    Yab = tau*T+X@beta0+conf_mult*0.6*C+err\n",
    "    if flagX==False:\n",
    "        return (Yab,T)\n",
    "    else:\n",
    "        return (Yab,T,X)"
   ]
  },
  {
   "cell_type": "code",
   "execution_count": 86,
   "id": "e942c664",
   "metadata": {},
   "outputs": [],
   "source": [
    "def fn_tauhat_means(Yt,Yc):\n",
    "    nt = len(Yt)\n",
    "    nc = len(Yc)\n",
    "    tauhat = np.mean(Yt)-np.mean(Yc)\n",
    "    se_tauhat = (np.var(Yt,ddof=1)/nt+np.var(Yc,ddof=1)/nc)**(1/2)\n",
    "    return (tauhat,se_tauhat)"
   ]
  },
  {
   "cell_type": "code",
   "execution_count": 87,
   "id": "b164d169",
   "metadata": {},
   "outputs": [],
   "source": [
    "def fn_bias_rmse_size(theta0,thetahat,se_thetahat,cval = 1.96):\n",
    "    b = thetahat - theta0\n",
    "    bias = np.mean(b)\n",
    "    rmse = np.sqrt(np.mean(b**2))\n",
    "    tval = b/se_thetahat # paramhat/se_paramhat H0: theta = 0\n",
    "    size = np.mean(1*(np.abs(tval)>cval))\n",
    "    # note size calculated at true parameter value\n",
    "    return (bias,rmse,size)"
   ]
  },
  {
   "cell_type": "markdown",
   "id": "f3eefcb6",
   "metadata": {},
   "source": [
    "# question 1"
   ]
  },
  {
   "cell_type": "code",
   "execution_count": 38,
   "id": "c128989c",
   "metadata": {},
   "outputs": [
    {
     "data": {
      "image/png": "[encoded data removed]",
      "text/plain": [
       "<Figure size 432x288 with 1 Axes>"
      ]
     },
     "metadata": {},
     "output_type": "display_data"
    }
   ],
   "source": [
    "#showing DGP with DAG\n",
    "G = nx.DiGraph()\n",
    "    \n",
    "G.add_node('s1', desc='Outcome')\n",
    "G.add_node('s2', desc='Treatment')\n",
    "G.add_node('s3', desc='Covariates')\n",
    "G.add_edge('s2','s1')\n",
    "G.add_edge('s3','s1')\n",
    "    \n",
    "pos = nx.spring_layout(G)\n",
    "nx.draw(G, pos)\n",
    "node_labels = nx.get_node_attributes(G, 'desc')\n",
    "nx.draw_networkx_labels(G, pos, labels=node_labels)\n",
    "plt.show()"
   ]
  },
  {
   "cell_type": "markdown",
   "id": "5c92e2d5",
   "metadata": {},
   "source": [
    "# a.no covariates\n",
    "\n",
    "𝑦𝑖=𝜏∗𝑇𝑖+𝑒𝑖\n"
   ]
  },
  {
   "cell_type": "code",
   "execution_count": 91,
   "id": "30871ed7",
   "metadata": {},
   "outputs": [],
   "source": [
    "tau = 4\n",
    "corr = .75\n",
    "conf=False\n",
    "p = 100\n",
    "p0 = 0 # number of covariates used in the DGP\n",
    "flagX=1\n",
    "N=1000\n",
    "Y,T,X=fn_generate_data(tau,N,p,p0,corr,conf,flagX)"
   ]
  },
  {
   "cell_type": "code",
   "execution_count": 92,
   "id": "5e82f019",
   "metadata": {},
   "outputs": [
    {
     "name": "stderr",
     "output_type": "stream",
     "text": [
      "100%|██████████████████████████████████████| 2000/2000 [00:04<00:00, 440.47it/s]\n",
      "100%|███████████████████████████████████████| 2000/2000 [00:20<00:00, 98.85it/s]\n"
     ]
    }
   ],
   "source": [
    "#Run R Monte Carlo iterations and compute bias, RMSE and size¶\n",
    "##not control covariates\n",
    "estDict = {}\n",
    "R = 2000\n",
    "for N in [100,1000]:\n",
    "    tauhats = []\n",
    "    sehats = []\n",
    "    for r in tqdm(range(R)):\n",
    "        Yexp,T,X = fn_generate_data(tau,N,p,p0,corr,conf,flagX)\n",
    "        Yt = Yexp[np.where(T==1)[0],:]\n",
    "        Yc = Yexp[np.where(T==0)[0],:]\n",
    "        tauhat,se_tauhat = fn_tauhat_means(Yt,Yc)\n",
    "        tauhats = tauhats + [tauhat]\n",
    "        sehats = sehats + [se_tauhat]\n",
    "    estDict[N] = {\n",
    "        'tauhat':np.array(tauhats).reshape([len(tauhats),1]),\n",
    "        'sehat':np.array(sehats).reshape([len(sehats),1])\n",
    "    }"
   ]
  },
  {
   "cell_type": "code",
   "execution_count": 93,
   "id": "4d049192",
   "metadata": {},
   "outputs": [
    {
     "name": "stdout",
     "output_type": "stream",
     "text": [
      "N=100: bias=-0.006727812447516783, RMSE=0.20277890511939264, size=0.051\n",
      "N=1000: bias=0.0017308767687602338, RMSE=0.06282377747567858, size=0.0435\n"
     ]
    }
   ],
   "source": [
    "tau0 = tau*np.ones([R,1])\n",
    "for N, results in estDict.items():\n",
    "    (bias,rmse,size) = fn_bias_rmse_size(tau0,results['tauhat'],\n",
    "                                         results['sehat'])\n",
    "    print(f'N={N}: bias={bias}, RMSE={rmse}, size={size}')"
   ]
  },
  {
   "cell_type": "markdown",
   "id": "98606c7d",
   "metadata": {},
   "source": [
    "# b.control for covariates\n",
    "𝑦𝑖=𝜏∗𝑇𝑖+𝛽′∗𝑥𝑖+𝑒𝑖\n"
   ]
  },
  {
   "cell_type": "code",
   "execution_count": 94,
   "id": "1e0211a7",
   "metadata": {},
   "outputs": [],
   "source": [
    "tau = 4\n",
    "corr = .75\n",
    "conf=False\n",
    "p = 100\n",
    "p0 = 10 # number of covariates used in the DGP\n",
    "N = 1000\n",
    "Y,T,X = fn_generate_data(tau,N,p,p0,corr,conf,flagX)"
   ]
  },
  {
   "cell_type": "code",
   "execution_count": 96,
   "id": "8c9f86d1",
   "metadata": {},
   "outputs": [
    {
     "name": "stderr",
     "output_type": "stream",
     "text": [
      "100%|██████████████████████████████████████| 2000/2000 [00:06<00:00, 332.49it/s]\n",
      "100%|███████████████████████████████████████| 2000/2000 [00:21<00:00, 94.41it/s]\n"
     ]
    }
   ],
   "source": [
    "#Run R Monte Carlo iterations and compute bias, RMSE and size¶\n",
    "##control covariates\n",
    "estDict = {}\n",
    "R = 2000\n",
    "for N in [100,1000]:\n",
    "    tauhats = []\n",
    "    sehats = []\n",
    "    for r in tqdm(range(R)):\n",
    "        Y,T,X = fn_generate_data(tau,N,p,p0,corr,conf,flagX)\n",
    "        Xobs = X[:,:p0]\n",
    "        covars = np.concatenate([T,Xobs],axis = 1)\n",
    "        mod = sm.OLS(Y,covars)\n",
    "        res = mod.fit()\n",
    "        tauhat = res.params[0]\n",
    "        se_tauhat = res.HC1_se[0]\n",
    "        tauhats = tauhats + [tauhat]\n",
    "        sehats = sehats + [se_tauhat]\n",
    "        \n",
    "    estDict[N] = {\n",
    "        'tauhat':np.array(tauhats).reshape([len(tauhats),1]),\n",
    "        'sehat':np.array(sehats).reshape([len(sehats),1])\n",
    "    }"
   ]
  },
  {
   "cell_type": "code",
   "execution_count": 97,
   "id": "8817a038",
   "metadata": {},
   "outputs": [
    {
     "name": "stdout",
     "output_type": "stream",
     "text": [
      "N=100: bias=-0.002196587652829789, RMSE=0.15209743544034957, size=0.0635\n",
      "N=1000: bias=-0.0017332884322590507, RMSE=0.04446708837145685, size=0.051\n"
     ]
    }
   ],
   "source": [
    "tau0 = tau*np.ones([R,1])\n",
    "for N, results in estDict.items():\n",
    "    (bias,rmse,size) = fn_bias_rmse_size(tau0,results['tauhat'],\n",
    "                                         results['sehat'])\n",
    "    print(f'N={N}: bias={bias}, RMSE={rmse}, size={size}')"
   ]
  },
  {
   "cell_type": "markdown",
   "id": "e59c9019",
   "metadata": {},
   "source": [
    "# question2"
   ]
  },
  {
   "cell_type": "code",
   "execution_count": 44,
   "id": "d0786ee1",
   "metadata": {},
   "outputs": [
    {
     "data": {
      "image/png": "[encoded data removed]",
      "text/plain": [
       "<Figure size 432x288 with 1 Axes>"
      ]
     },
     "metadata": {},
     "output_type": "display_data"
    }
   ],
   "source": [
    "#showing DGP with DAG\n",
    "G = nx.DiGraph()\n",
    "    \n",
    "G.add_node('s1', desc='Outcome')\n",
    "G.add_node('s2', desc='Treatment')\n",
    "G.add_node('s3', desc='Confounder')\n",
    "G.add_edge('s2','s1')\n",
    "G.add_edge('s3','s2')\n",
    "G.add_edge('s3','s1')\n",
    "    \n",
    "pos = nx.spring_layout(G)\n",
    "nx.draw(G, pos)\n",
    "node_labels = nx.get_node_attributes(G, 'desc')\n",
    "nx.draw_networkx_labels(G, pos, labels=node_labels)\n",
    "plt.show()"
   ]
  },
  {
   "cell_type": "markdown",
   "id": "721b3242",
   "metadata": {},
   "source": [
    "# a.fail to control confounder"
   ]
  },
  {
   "cell_type": "code",
   "execution_count": 98,
   "id": "b9a8029f",
   "metadata": {},
   "outputs": [],
   "source": [
    "def fn_generate_data_conf(tau,N,p,corr):\n",
    "\n",
    "    nvar = p+1 \n",
    "    corr = 0.5 # correlation for multivariate normal\n",
    "    X = fn_generate_multnorm(N,corr,nvar)\n",
    "    C = X[:,1].reshape([N,1]) # confounder\n",
    "    T = fn_randomize_treatment(N) # choose treated units\n",
    "    err = np.random.normal(0,1,[N,1])\n",
    "    Yab = tau*T+0.5*C+err\n",
    "    Tab = T+0.5*C\n",
    "\n",
    "    return (Yab,Tab,C)"
   ]
  },
  {
   "cell_type": "code",
   "execution_count": 58,
   "id": "3c7f43cc",
   "metadata": {},
   "outputs": [],
   "source": [
    "tau = 4\n",
    "corr = .75\n",
    "p = 4\n",
    "Y,T,C = fn_generate_data_conf(tau,N,p,corr)"
   ]
  },
  {
   "cell_type": "code",
   "execution_count": 59,
   "id": "2e491680",
   "metadata": {},
   "outputs": [
    {
     "name": "stderr",
     "output_type": "stream",
     "text": [
      "100%|█████████████████████████████████████| 2000/2000 [00:01<00:00, 1832.72it/s]\n",
      "100%|██████████████████████████████████████| 2000/2000 [00:10<00:00, 195.69it/s]\n"
     ]
    }
   ],
   "source": [
    "#Run R Monte Carlo iterations and compute bias, RMSE and size¶\n",
    "## Not control confounder\n",
    "estDict = {}\n",
    "R = 2000\n",
    "for N in [100,1000]:\n",
    "    tauhats = []\n",
    "    sehats = []\n",
    "    for r in tqdm(range(R)):\n",
    "        Y,T,C = fn_generate_data_conf(tau,N,p,corr)\n",
    "        covars = np.concatenate([T],axis = 1)\n",
    "        mod = sm.OLS(Y,covars)\n",
    "        res = mod.fit()\n",
    "        tauhat = res.params[0]\n",
    "        se_tauhat = res.HC1_se[0]\n",
    "        tauhats = tauhats + [tauhat]\n",
    "        sehats = sehats + [se_tauhat]\n",
    "    estDict[N] = {\n",
    "        'tauhat':np.array(tauhats).reshape([len(tauhats),1]),\n",
    "        'sehat':np.array(sehats).reshape([len(sehats),1])\n",
    "    }"
   ]
  },
  {
   "cell_type": "code",
   "execution_count": 61,
   "id": "dc27885d",
   "metadata": {},
   "outputs": [
    {
     "name": "stdout",
     "output_type": "stream",
     "text": [
      "N=100: bias=-0.9726572119552913, RMSE=1.0135236188748464, size=0.9805\n",
      "N=1000: bias=-0.9742616957815742, RMSE=1.0050833012434064, size=0.999\n"
     ]
    }
   ],
   "source": [
    "tau0 = tau*np.ones([R,1])\n",
    "for N, results in estDict.items():\n",
    "    (bias,rmse,size) = fn_bias_rmse_size(tau0,results['tauhat'],\n",
    "                                         results['sehat'])\n",
    "    print(f'N={N}: bias={bias}, RMSE={rmse}, size={size}')"
   ]
  },
  {
   "cell_type": "markdown",
   "id": "6c6b5a99",
   "metadata": {},
   "source": [
    "# b.control for confounder"
   ]
  },
  {
   "cell_type": "code",
   "execution_count": 63,
   "id": "30db93c0",
   "metadata": {},
   "outputs": [
    {
     "name": "stderr",
     "output_type": "stream",
     "text": [
      "100%|█████████████████████████████████████| 2000/2000 [00:01<00:00, 1616.38it/s]\n",
      "100%|██████████████████████████████████████| 2000/2000 [00:10<00:00, 189.62it/s]\n"
     ]
    }
   ],
   "source": [
    "#Run R Monte Carlo iterations and compute bias, RMSE and size¶\n",
    "## control for confounder\n",
    "estDict = {}\n",
    "R = 2000\n",
    "for N in [100,1000]:\n",
    "    tauhats = []\n",
    "    sehats = []\n",
    "    for r in tqdm(range(R)):\n",
    "        Y,T,C = fn_generate_data_conf(tau,N,p,corr)\n",
    "        covars = np.concatenate([T,C],axis = 1)\n",
    "        mod = sm.OLS(Y,covars)\n",
    "        res = mod.fit()\n",
    "        tauhat = res.params[0]\n",
    "        se_tauhat = res.HC1_se[0]\n",
    "        tauhats = tauhats + [tauhat]\n",
    "        sehats = sehats + [se_tauhat]\n",
    "        \n",
    "    estDict[N] = {\n",
    "        'tauhat':np.array(tauhats).reshape([len(tauhats),1]),\n",
    "        'sehat':np.array(sehats).reshape([len(sehats),1])\n",
    "    }"
   ]
  },
  {
   "cell_type": "code",
   "execution_count": 65,
   "id": "0b6fc197",
   "metadata": {},
   "outputs": [
    {
     "name": "stdout",
     "output_type": "stream",
     "text": [
      "N=100: bias=-0.003927498371269837, RMSE=0.14610486452880636, size=0.06\n",
      "N=1000: bias=0.0014702806406225227, RMSE=0.04518728182098808, size=0.055\n"
     ]
    }
   ],
   "source": [
    "tau0 = tau*np.ones([R,1])\n",
    "for N, results in estDict.items():\n",
    "    (bias,rmse,size) = fn_bias_rmse_size(tau0,results['tauhat'],\n",
    "                                         results['sehat'])\n",
    "    print(f'N={N}: bias={bias}, RMSE={rmse}, size={size}')"
   ]
  },
  {
   "cell_type": "markdown",
   "id": "37bcc295",
   "metadata": {},
   "source": [
    "# question3"
   ]
  },
  {
   "cell_type": "code",
   "execution_count": 67,
   "id": "7a6fab2e",
   "metadata": {},
   "outputs": [
    {
     "data": {
      "image/png": "[encoded data removed]",
      "text/plain": [
       "<Figure size 432x288 with 1 Axes>"
      ]
     },
     "metadata": {},
     "output_type": "display_data"
    }
   ],
   "source": [
    "#showing DGP with DAG\n",
    "G = nx.DiGraph()\n",
    "    \n",
    "G.add_node('s1', desc='Outcome')\n",
    "G.add_node('s2', desc='Treatment')\n",
    "G.add_node('s3', desc='Selectionbias')\n",
    "G.add_edge('s2','s1')\n",
    "G.add_edge('s1','s3')\n",
    "G.add_edge('s2','s3')\n",
    "    \n",
    "pos = nx.spring_layout(G)\n",
    "nx.draw(G, pos)\n",
    "node_labels = nx.get_node_attributes(G, 'desc')\n",
    "nx.draw_networkx_labels(G, pos, labels=node_labels)\n",
    "plt.show()"
   ]
  },
  {
   "cell_type": "markdown",
   "id": "2855d2b0",
   "metadata": {},
   "source": [
    "# a. not control the variable between the path from cause to effect"
   ]
  },
  {
   "cell_type": "code",
   "execution_count": 69,
   "id": "fc3f81a3",
   "metadata": {},
   "outputs": [],
   "source": [
    "def fn_generate_data_s(tau,N,p,corr):\n",
    "\n",
    "    nvar = p+1 # 1 for selection bias\n",
    "    corr = 0.5 # correlation for multivariate normal\n",
    " \n",
    "    allX = fn_generate_multnorm(N,corr,nvar)\n",
    "    T = fn_randomize_treatment(N) # choose treated units\n",
    "    err = np.random.normal(0,1,[N,1])\n",
    "    U = np.random.normal(0,1,[N,1])\n",
    "    Y = tau*T+err\n",
    "    S = 0.5*T+0.5*Y+U\n",
    "\n",
    "    return (Y,T,S)"
   ]
  },
  {
   "cell_type": "code",
   "execution_count": 71,
   "id": "e8bf1623",
   "metadata": {},
   "outputs": [],
   "source": [
    "tau = 4\n",
    "corr = 0.75\n",
    "p = 4\n",
    "N = 1000\n",
    "Y,T,S = fn_generate_data_s(tau,N,p,corr)"
   ]
  },
  {
   "cell_type": "code",
   "execution_count": 73,
   "id": "1a6c0571",
   "metadata": {},
   "outputs": [
    {
     "name": "stderr",
     "output_type": "stream",
     "text": [
      "100%|█████████████████████████████████████| 2000/2000 [00:00<00:00, 3594.41it/s]\n",
      "100%|██████████████████████████████████████| 2000/2000 [00:09<00:00, 204.70it/s]\n"
     ]
    }
   ],
   "source": [
    "#Run R Monte Carlo iterations and compute bias, RMSE and size\n",
    "## not control selection bias\n",
    "estDict = {}\n",
    "R = 2000\n",
    "for N in [100,1000]:\n",
    "    tauhats = []\n",
    "    sehats = []\n",
    "    for r in tqdm(range(R)):\n",
    "        Yexp,T,Z = fn_generate_data_s(tau,N,p,corr)   \n",
    "        Yt = Yexp[np.where(T==1)[0],:]\n",
    "        Yc = Yexp[np.where(T==0)[0],:]\n",
    "        tauhat,se_tauhat = fn_tauhat_means(Yt,Yc)\n",
    "        tauhats = tauhats + [tauhat]\n",
    "        sehats = sehats + [se_tauhat]\n",
    "        \n",
    "    estDict[N] = {\n",
    "        'tauhat':np.array(tauhats).reshape([len(tauhats),1]),\n",
    "        'sehat':np.array(sehats).reshape([len(sehats),1])\n",
    "    }"
   ]
  },
  {
   "cell_type": "code",
   "execution_count": 75,
   "id": "3ba3576b",
   "metadata": {},
   "outputs": [
    {
     "name": "stdout",
     "output_type": "stream",
     "text": [
      "N=100: bias=0.004386010025001007, RMSE=0.19807713249004313, size=0.0445\n",
      "N=1000: bias=0.0008839863187820738, RMSE=0.06231463230823513, size=0.0415\n"
     ]
    }
   ],
   "source": [
    "tau0 = tau*np.ones([R,1])\n",
    "for N, results in estDict.items():\n",
    "    (bias,rmse,size) = fn_bias_rmse_size(tau0,results['tauhat'],\n",
    "                                         results['sehat'])\n",
    "    print(f'N={N}: bias={bias}, RMSE={rmse}, size={size}')"
   ]
  },
  {
   "cell_type": "markdown",
   "id": "3daef3b2",
   "metadata": {},
   "source": [
    "# b.control the variable between the path from cause to effect"
   ]
  },
  {
   "cell_type": "code",
   "execution_count": 77,
   "id": "a37684fe",
   "metadata": {},
   "outputs": [
    {
     "name": "stderr",
     "output_type": "stream",
     "text": [
      "100%|█████████████████████████████████████| 2000/2000 [00:01<00:00, 1592.76it/s]\n",
      "100%|██████████████████████████████████████| 2000/2000 [00:10<00:00, 184.23it/s]\n"
     ]
    }
   ],
   "source": [
    "#Run R Monte Carlo iterations and compute bias, RMSE and size\n",
    "## control selection bias\n",
    "estDict = {}\n",
    "R = 2000\n",
    "for N in [100,1000]:\n",
    "    tauhats = []\n",
    "    sehats = []\n",
    "    for r in tqdm(range(R)):\n",
    "        Yexp,T,Z = fn_generate_data_s(tau,N,p,corr)\n",
    "        covars = np.concatenate([T,Z],axis = 1)\n",
    "        mod = sm.OLS(Yexp,covars)\n",
    "        res = mod.fit()\n",
    "        tauhat = res.params[0]\n",
    "        se_tauhat = res.HC1_se[0]\n",
    "        tauhats = tauhats + [tauhat]\n",
    "        sehats = sehats + [se_tauhat]\n",
    "        \n",
    "    estDict[N] = {\n",
    "        'tauhat':np.array(tauhats).reshape([len(tauhats),1]),\n",
    "        'sehat':np.array(sehats).reshape([len(sehats),1])\n",
    "    }"
   ]
  },
  {
   "cell_type": "code",
   "execution_count": 78,
   "id": "006ee7d4",
   "metadata": {},
   "outputs": [
    {
     "name": "stdout",
     "output_type": "stream",
     "text": [
      "N=100: bias=-0.9977797725753681, RMSE=1.0256157016573932, size=0.986\n",
      "N=1000: bias=-0.999350610160649, RMSE=1.0021835876380296, size=1.0\n"
     ]
    }
   ],
   "source": [
    "tau0 = tau*np.ones([R,1])\n",
    "for N, results in estDict.items():\n",
    "    (bias,rmse,size) = fn_bias_rmse_size(tau0,results['tauhat'],\n",
    "                                         results['sehat'])\n",
    "    print(f'N={N}: bias={bias}, RMSE={rmse}, size={size}')"
   ]
  },
  {
   "cell_type": "markdown",
   "id": "4f124f53",
   "metadata": {},
   "source": [
    "# summary"
   ]
  },
  {
   "cell_type": "markdown",
   "id": "c45263bf",
   "metadata": {},
   "source": [
    "I select the first three questions:with covariates, DGP with a confounder, and DGP with selection bias.\n",
    "To sum up my coding and analysis, I did the following parts:\n",
    "\n",
    "firstly, I defined several basic functions that will be useful later; \n",
    "then for the first question:\n",
    "concerning with controlling for covariates, which are other factors ,maybe contributing to the outcome. For example, if we take providing a health care programme as treatment and their spending on health on yearly basis as outcome, there will definitely be other covariates contributing to the outcome, something like age, height adn sex. In our monte carlo iterations run before, we can see that the bias went down after controlling for othe covariates.\n",
    "\n",
    "For the second question:\n",
    "concerning counfounding problems, we are basically discussing covariates which may have effects not only on the outcome, but may influence the treatment then the outcome as well. For example, if we are discussing the workers productivity as outcome and we use workers;s education level as the main independent variable, however, there must be some othe characteristics like personal ambition, home wealth, etc. which linked to both education level and productivity.\n",
    "\n",
    "For the third question:\n",
    "concerning for the selection bias problem, for example, if our objective is to figure out the price premium for living on Main Street in Santa Monica and we are only taking two factors accountng for prices--location and apartment size, in this experiment, size is obviously a variable which could cause a bias if omitted, very likely causing underestimation if we leave this behind.\n"
   ]
  }
 ],
 "metadata": {
  "kernelspec": {
   "display_name": "Python 3 (ipykernel)",
   "language": "python",
   "name": "python3"
  },
  "language_info": {
   "codemirror_mode": {
    "name": "ipython",
    "version": 3
   },
   "file_extension": ".py",
   "mimetype": "text/x-python",
   "name": "python",
   "nbconvert_exporter": "python",
   "pygments_lexer": "ipython3",
   "version": "3.9.7"
  }
 },
 "nbformat": 4,
 "nbformat_minor": 5
}
